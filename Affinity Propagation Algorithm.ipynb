{
 "cells": [
  {
   "cell_type": "markdown",
   "metadata": {},
   "source": [
    "# Affinity Propagation Algorithm Implementation"
   ]
  },
  {
   "cell_type": "code",
   "execution_count": 1,
   "metadata": {},
   "outputs": [],
   "source": [
    "import numpy as np\n",
    "import pandas as pd\n"
   ]
  },
  {
   "cell_type": "markdown",
   "metadata": {},
   "source": [
    "Creating the dataset"
   ]
  },
  {
   "cell_type": "code",
   "execution_count": 47,
   "metadata": {},
   "outputs": [
    {
     "data": {
      "text/html": [
       "<div>\n",
       "<style scoped>\n",
       "    .dataframe tbody tr th:only-of-type {\n",
       "        vertical-align: middle;\n",
       "    }\n",
       "\n",
       "    .dataframe tbody tr th {\n",
       "        vertical-align: top;\n",
       "    }\n",
       "\n",
       "    .dataframe thead th {\n",
       "        text-align: right;\n",
       "    }\n",
       "</style>\n",
       "<table border=\"1\" class=\"dataframe\">\n",
       "  <thead>\n",
       "    <tr style=\"text-align: right;\">\n",
       "      <th></th>\n",
       "      <th>Participant</th>\n",
       "      <th>Tax Rate</th>\n",
       "      <th>Fee</th>\n",
       "      <th>Interest Rate</th>\n",
       "      <th>Quantity Limit</th>\n",
       "      <th>Price Limit</th>\n",
       "    </tr>\n",
       "  </thead>\n",
       "  <tbody>\n",
       "    <tr>\n",
       "      <th>0</th>\n",
       "      <td>Alice</td>\n",
       "      <td>3</td>\n",
       "      <td>4</td>\n",
       "      <td>3</td>\n",
       "      <td>2</td>\n",
       "      <td>1</td>\n",
       "    </tr>\n",
       "    <tr>\n",
       "      <th>1</th>\n",
       "      <td>Bob</td>\n",
       "      <td>4</td>\n",
       "      <td>3</td>\n",
       "      <td>5</td>\n",
       "      <td>1</td>\n",
       "      <td>1</td>\n",
       "    </tr>\n",
       "    <tr>\n",
       "      <th>2</th>\n",
       "      <td>Cary</td>\n",
       "      <td>3</td>\n",
       "      <td>5</td>\n",
       "      <td>3</td>\n",
       "      <td>3</td>\n",
       "      <td>3</td>\n",
       "    </tr>\n",
       "    <tr>\n",
       "      <th>3</th>\n",
       "      <td>Doug</td>\n",
       "      <td>2</td>\n",
       "      <td>1</td>\n",
       "      <td>3</td>\n",
       "      <td>3</td>\n",
       "      <td>2</td>\n",
       "    </tr>\n",
       "    <tr>\n",
       "      <th>4</th>\n",
       "      <td>Edna</td>\n",
       "      <td>1</td>\n",
       "      <td>1</td>\n",
       "      <td>3</td>\n",
       "      <td>2</td>\n",
       "      <td>3</td>\n",
       "    </tr>\n",
       "  </tbody>\n",
       "</table>\n",
       "</div>"
      ],
      "text/plain": [
       "  Participant  Tax Rate  Fee  Interest Rate  Quantity Limit  Price Limit\n",
       "0       Alice         3    4              3               2            1\n",
       "1         Bob         4    3              5               1            1\n",
       "2        Cary         3    5              3               3            3\n",
       "3        Doug         2    1              3               3            2\n",
       "4        Edna         1    1              3               2            3"
      ]
     },
     "execution_count": 47,
     "metadata": {},
     "output_type": "execute_result"
    }
   ],
   "source": [
    "d1 = {}\n",
    "d1['Participant'] = ['Alice','Bob','Cary','Doug','Edna']\n",
    "d1['Tax Rate'] = [3,4,3,2,1]\n",
    "d1['Fee'] = [4,3,5,1,1]\n",
    "d1['Interest Rate']=[3,5,3,3,3]\n",
    "d1['Quantity Limit'] = [2,1,3,3,2]\n",
    "d1['Price Limit'] = [1,1,3,2,3]\n",
    "df = pd.DataFrame(d1)\n",
    "df"
   ]
  },
  {
   "cell_type": "markdown",
   "metadata": {},
   "source": [
    "Mending the data into a matrix"
   ]
  },
  {
   "cell_type": "code",
   "execution_count": 2,
   "metadata": {},
   "outputs": [
    {
     "data": {
      "text/plain": [
       "array([[3, 4, 3, 2, 1],\n",
       "       [4, 3, 5, 1, 1],\n",
       "       [3, 5, 3, 3, 3],\n",
       "       [2, 1, 3, 3, 2],\n",
       "       [1, 1, 3, 2, 3]], dtype=int64)"
      ]
     },
     "execution_count": 2,
     "metadata": {},
     "output_type": "execute_result"
    }
   ],
   "source": [
    "mat=df.iloc[:,1:].values\n",
    "mat"
   ]
  },
  {
   "cell_type": "markdown",
   "metadata": {},
   "source": [
    "Initialising matrices with zero values"
   ]
  },
  {
   "cell_type": "code",
   "execution_count": 3,
   "metadata": {},
   "outputs": [],
   "source": [
    "#similarity matrix\n",
    "sim_mat=np.zeros(mat.shape)  \n",
    "#responsibility matrix\n",
    "resp_mat=np.zeros(mat.shape)\n",
    "#availability matrix\n",
    "avail_mat=np.zeros(mat.shape)\n",
    "#criterion matrix\n",
    "crit_mat=np.zeros(mat.shape)"
   ]
  },
  {
   "cell_type": "markdown",
   "metadata": {},
   "source": [
    "Constructing similarity matrix"
   ]
  },
  {
   "cell_type": "code",
   "execution_count": 105,
   "metadata": {},
   "outputs": [
    {
     "data": {
      "text/plain": [
       "array([[-22.,  -7.,  -6., -12., -17.],\n",
       "       [ -7., -22., -17., -17., -22.],\n",
       "       [ -6., -17., -22., -18., -21.],\n",
       "       [-12., -17., -18., -22.,  -3.],\n",
       "       [-17., -22., -21.,  -3., -22.]])"
      ]
     },
     "execution_count": 105,
     "metadata": {},
     "output_type": "execute_result"
    }
   ],
   "source": [
    "sim_mat=np.zeros(mat.shape)\n",
    "for i in range(mat.shape[0]):\n",
    "    for j in range(mat.shape[0]):\n",
    "        if i!=j:\n",
    "            sim_mat[i,j]=-sum((mat[i]-mat[j])**2)\n",
    "            \n",
    "min_sim_mat=min([sim_mat[i][j] for i in range(sim_mat.shape[0]) for j in range(sim_mat.shape[1]) if i!=j])\n",
    "np.fill_diagonal(sim_mat,min_sim_mat)\n",
    "sim_mat"
   ]
  },
  {
   "cell_type": "markdown",
   "metadata": {},
   "source": [
    "Defining Responsibility Matrix"
   ]
  },
  {
   "cell_type": "code",
   "execution_count": 101,
   "metadata": {
    "scrolled": true
   },
   "outputs": [
    {
     "data": {
      "text/plain": [
       "array([[-16.,  -1.,   1.,  -6., -11.],\n",
       "       [ 10., -15., -10., -10., -15.],\n",
       "       [ 11., -11., -16., -12., -15.],\n",
       "       [ -9., -14., -15., -19.,   9.],\n",
       "       [-14., -19., -18.,  14., -19.]])"
      ]
     },
     "execution_count": 101,
     "metadata": {},
     "output_type": "execute_result"
    }
   ],
   "source": [
    "def r_mat(avail_mat):  \n",
    "    for i in range(mat.shape[0]):\n",
    "            for j in range(mat.shape[0]):\n",
    "                resp_mat[i,j]=sim_mat[i,j]-max(np.delete(avail_mat[i,:],j)+np.delete(sim_mat[i,:],j))\n",
    "    return resp_mat\n",
    "r_mat(avail_mat)  #for the 1st iteration"
   ]
  },
  {
   "cell_type": "markdown",
   "metadata": {},
   "source": [
    "Defining availability matrix"
   ]
  },
  {
   "cell_type": "code",
   "execution_count": 102,
   "metadata": {},
   "outputs": [
    {
     "data": {
      "text/plain": [
       "array([[ 21., -15., -16.,  -5., -10.],\n",
       "       [ -5.,   0., -15.,  -5., -10.],\n",
       "       [ -6., -15.,   1.,  -5., -10.],\n",
       "       [  0., -15., -15.,  14., -19.],\n",
       "       [  0., -15., -15., -19.,   9.]])"
      ]
     },
     "execution_count": 102,
     "metadata": {},
     "output_type": "execute_result"
    }
   ],
   "source": [
    "def a_mat(resp_mat):\n",
    "    for i in range(avail_mat.shape[1]):\n",
    "        for j in range(avail_mat.shape[1]):\n",
    "            if i == j:\n",
    "                avail_mat[i,j]=sum(resp_mat[:,i][resp_mat[:,i]>0])\n",
    "            else:\n",
    "                nn=sum([resp_mat[k,j] for k in range(resp_mat.shape[1]) if k!=j and k!=i and resp_mat[k,j]>0])\n",
    "                avail_mat[i,j]=min(0,resp_mat[j,j]+nn)\n",
    "    return avail_mat\n",
    "a_mat(resp_mat)  #for the first iteration"
   ]
  },
  {
   "cell_type": "markdown",
   "metadata": {},
   "source": [
    "Parameters defined"
   ]
  },
  {
   "cell_type": "code",
   "execution_count": 61,
   "metadata": {},
   "outputs": [],
   "source": [
    "d=0.5 #bit of noise to assure convergence\n",
    "t=15 #number of iterations"
   ]
  },
  {
   "cell_type": "markdown",
   "metadata": {},
   "source": [
    "Iterations to get criterion matrix"
   ]
  },
  {
   "cell_type": "code",
   "execution_count": null,
   "metadata": {},
   "outputs": [],
   "source": [
    "for i in range(t):\n",
    "    if i==0:\n",
    "        r_dash=r_mat(avail_mat)\n",
    "        a_dash=a_mat(resp_mat)\n",
    "    else:\n",
    "        r_dash=d*r_dash+(1-d)*r_mat(a_dash)\n",
    "        a_dash=d*a_dash+(1-d)*a_mat(r_dash)"
   ]
  },
  {
   "cell_type": "code",
   "execution_count": 62,
   "metadata": {},
   "outputs": [
    {
     "data": {
      "text/plain": [
       "array([[ 12., -22., -22., -12., -17.],\n",
       "       [ 10., -15., -26., -10., -15.],\n",
       "       [ 12., -26., -16., -12., -15.],\n",
       "       [ -2., -22., -24.,   0.,   0.],\n",
       "       [ -2., -22., -22.,   0.,   0.]])"
      ]
     },
     "execution_count": 62,
     "metadata": {},
     "output_type": "execute_result"
    }
   ],
   "source": [
    "c_dash=r_dash+a_dash\n",
    "c_dash"
   ]
  },
  {
   "cell_type": "markdown",
   "metadata": {},
   "source": [
    "Cluster Formation"
   ]
  },
  {
   "cell_type": "code",
   "execution_count": 104,
   "metadata": {},
   "outputs": [
    {
     "name": "stdout",
     "output_type": "stream",
     "text": [
      "clusters= [0, 0, 0, 3, 3]\n"
     ]
    }
   ],
   "source": [
    "clstr=[]\n",
    "for i in range(c_dash.shape[0]):\n",
    "    cls=int(np.arange(c_dash.shape[0])[c_dash[i,:]==max(c_dash[i,:])][0]) \n",
    "    clstr.append(cls)\n",
    "print(\"clusters=\", clstr)"
   ]
  }
 ],
 "metadata": {
  "kernelspec": {
   "display_name": "Python 3",
   "language": "python",
   "name": "python3"
  },
  "language_info": {
   "codemirror_mode": {
    "name": "ipython",
    "version": 3
   },
   "file_extension": ".py",
   "mimetype": "text/x-python",
   "name": "python",
   "nbconvert_exporter": "python",
   "pygments_lexer": "ipython3",
   "version": "3.6.5"
  }
 },
 "nbformat": 4,
 "nbformat_minor": 2
}
