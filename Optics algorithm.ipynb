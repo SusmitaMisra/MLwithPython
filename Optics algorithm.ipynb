{
 "cells": [
  {
   "cell_type": "markdown",
   "metadata": {},
   "source": [
    "# Optics Algorithm Implementation"
   ]
  },
  {
   "cell_type": "markdown",
   "metadata": {},
   "source": [
    "importing necessary modules"
   ]
  },
  {
   "cell_type": "code",
   "execution_count": 1,
   "metadata": {},
   "outputs": [],
   "source": [
    "import pandas as pd\n",
    "import numpy as np\n",
    "import matplotlib.pyplot as plt\n",
    "from sklearn.datasets import make_blobs\n"
   ]
  },
  {
   "cell_type": "markdown",
   "metadata": {},
   "source": [
    "Creating a data set"
   ]
  },
  {
   "cell_type": "code",
   "execution_count": 2,
   "metadata": {},
   "outputs": [
    {
     "data": {
      "text/plain": [
       "<matplotlib.collections.PathCollection at 0x2308b012470>"
      ]
     },
     "execution_count": 2,
     "metadata": {},
     "output_type": "execute_result"
    },
    {
     "data": {
      "image/png": "[encoded data removed]",
      "text/plain": [
       "<Figure size 432x288 with 1 Axes>"
      ]
     },
     "metadata": {},
     "output_type": "display_data"
    }
   ],
   "source": [
    "X,y = make_blobs(n_samples=200,n_features=2,centers=2,random_state=19) \n",
    "# X is the data and y are cluster labels\n",
    "plt.scatter(X[:,0],X[:,1])"
   ]
  },
  {
   "cell_type": "markdown",
   "metadata": {},
   "source": [
    "Parameters defined"
   ]
  },
  {
   "cell_type": "code",
   "execution_count": 3,
   "metadata": {},
   "outputs": [],
   "source": [
    "eps=10\n",
    "minpt=3"
   ]
  },
  {
   "cell_type": "markdown",
   "metadata": {},
   "source": [
    "Distance function"
   ]
  },
  {
   "cell_type": "code",
   "execution_count": 4,
   "metadata": {},
   "outputs": [],
   "source": [
    "def dist(p1,q1):\n",
    "    sum_sq=0\n",
    "    for i in range(len(p1)):\n",
    "        sum_sq+=(p1[i]-q1[i])**2\n",
    "    return(sum_sq**(1/2))"
   ]
  },
  {
   "cell_type": "markdown",
   "metadata": {},
   "source": [
    "Creating Neighbourhood function"
   ]
  },
  {
   "cell_type": "code",
   "execution_count": 5,
   "metadata": {},
   "outputs": [],
   "source": [
    "def get_nbd(p):  #to find the neighbourhood of agiven point p\n",
    "    l=[]\n",
    "    for j in X:\n",
    "        if dist(p,j)<eps and dist(p,j)>0:\n",
    "            l.append(list(j))\n",
    "    return(l)\n"
   ]
  },
  {
   "cell_type": "markdown",
   "metadata": {},
   "source": [
    "To find the distance of the nth point"
   ]
  },
  {
   "cell_type": "code",
   "execution_count": 6,
   "metadata": {},
   "outputs": [],
   "source": [
    "def minptth_dist(p):\n",
    "    l=[]\n",
    "    for i in range(len(X)):\n",
    "        l.append(dist(p,X[i]))\n",
    "    l.sort()\n",
    "    return l[minpt-1]\n"
   ]
  },
  {
   "cell_type": "markdown",
   "metadata": {},
   "source": [
    "Defining Core distance and Reachability distance"
   ]
  },
  {
   "cell_type": "code",
   "execution_count": 7,
   "metadata": {},
   "outputs": [],
   "source": [
    "def core_dist(p):\n",
    "    if len(get_nbd(p))<minpt:\n",
    "        c_d=np.inf\n",
    "    else:\n",
    "        c_d=minptth_dist(p)\n",
    "    return(c_d)"
   ]
  },
  {
   "cell_type": "code",
   "execution_count": 8,
   "metadata": {},
   "outputs": [],
   "source": [
    "def reach_dist(o,p):\n",
    "    if len(get_nbd(p))<minpt:\n",
    "        r_d=np.inf\n",
    "    else:\n",
    "        r_d=max(core_dist(p),dist(p,o))\n",
    "    return(r_d)\n"
   ]
  },
  {
   "cell_type": "markdown",
   "metadata": {},
   "source": [
    "Defining function to find the position of a point in the neighbourhood of a point"
   ]
  },
  {
   "cell_type": "code",
   "execution_count": 9,
   "metadata": {},
   "outputs": [],
   "source": [
    "def find_ind(neig):\n",
    "    l=[]\n",
    "    for i in neig:\n",
    "        for j in range(len(X)):\n",
    "            if list(i)==list(list(X[j])):\n",
    "                l.append(j)\n",
    "    return(l)\n",
    "#find_ind(get_nbd(X[0]))"
   ]
  },
  {
   "cell_type": "markdown",
   "metadata": {},
   "source": [
    "Creating dataframe to update values"
   ]
  },
  {
   "cell_type": "code",
   "execution_count": 10,
   "metadata": {},
   "outputs": [
    {
     "data": {
      "text/html": [
       "<div>\n",
       "<style scoped>\n",
       "    .dataframe tbody tr th:only-of-type {\n",
       "        vertical-align: middle;\n",
       "    }\n",
       "\n",
       "    .dataframe tbody tr th {\n",
       "        vertical-align: top;\n",
       "    }\n",
       "\n",
       "    .dataframe thead th {\n",
       "        text-align: right;\n",
       "    }\n",
       "</style>\n",
       "<table border=\"1\" class=\"dataframe\">\n",
       "  <thead>\n",
       "    <tr style=\"text-align: right;\">\n",
       "      <th></th>\n",
       "      <th>points</th>\n",
       "      <th>cluster</th>\n",
       "      <th>reach_dist</th>\n",
       "      <th>core_dist</th>\n",
       "    </tr>\n",
       "  </thead>\n",
       "  <tbody>\n",
       "    <tr>\n",
       "      <th>0</th>\n",
       "      <td>[-5.399745969389058, -5.871338392685264]</td>\n",
       "      <td>0</td>\n",
       "      <td>1000</td>\n",
       "      <td>1000</td>\n",
       "    </tr>\n",
       "    <tr>\n",
       "      <th>1</th>\n",
       "      <td>[-7.095478470987599, 4.796724730927463]</td>\n",
       "      <td>0</td>\n",
       "      <td>1000</td>\n",
       "      <td>1000</td>\n",
       "    </tr>\n",
       "    <tr>\n",
       "      <th>2</th>\n",
       "      <td>[-5.906015740696437, -8.818806262645342]</td>\n",
       "      <td>0</td>\n",
       "      <td>1000</td>\n",
       "      <td>1000</td>\n",
       "    </tr>\n",
       "    <tr>\n",
       "      <th>3</th>\n",
       "      <td>[-7.462995210456429, 3.3855207777016796]</td>\n",
       "      <td>0</td>\n",
       "      <td>1000</td>\n",
       "      <td>1000</td>\n",
       "    </tr>\n",
       "    <tr>\n",
       "      <th>4</th>\n",
       "      <td>[-8.019434148418728, 4.577537113395674]</td>\n",
       "      <td>0</td>\n",
       "      <td>1000</td>\n",
       "      <td>1000</td>\n",
       "    </tr>\n",
       "  </tbody>\n",
       "</table>\n",
       "</div>"
      ],
      "text/plain": [
       "                                     points  cluster  reach_dist  core_dist\n",
       "0  [-5.399745969389058, -5.871338392685264]        0        1000       1000\n",
       "1   [-7.095478470987599, 4.796724730927463]        0        1000       1000\n",
       "2  [-5.906015740696437, -8.818806262645342]        0        1000       1000\n",
       "3  [-7.462995210456429, 3.3855207777016796]        0        1000       1000\n",
       "4   [-8.019434148418728, 4.577537113395674]        0        1000       1000"
      ]
     },
     "execution_count": 10,
     "metadata": {},
     "output_type": "execute_result"
    }
   ],
   "source": [
    "col=['points','cluster','reach_dist','core_dist']\n",
    "idx=range(len(X))\n",
    "df=pd.DataFrame(columns=col,index=idx)\n",
    "df.iloc[:,0]=list(X)\n",
    "df.iloc[:,1]=0\n",
    "df.iloc[:,2]=1000\n",
    "df.iloc[:,3]=1000\n",
    "df.head()"
   ]
  },
  {
   "cell_type": "markdown",
   "metadata": {},
   "source": [
    "To perform step one of the optics algorithm"
   ]
  },
  {
   "cell_type": "code",
   "execution_count": 11,
   "metadata": {},
   "outputs": [],
   "source": [
    "def step_one(p,p_i,ind,nbd):\n",
    "    df.iloc[p_i,3]=core_dist(X[p_i])\n",
    "    for j in range(len(nbd)):\n",
    "        df.iloc[ind[j],2]=min(df.iloc[ind[j],2], max(core_dist(X[p_i]),dist(X[ind[j]],X[p_i])))"
   ]
  },
  {
   "cell_type": "markdown",
   "metadata": {},
   "source": [
    "Running the algorithm"
   ]
  },
  {
   "cell_type": "code",
   "execution_count": 12,
   "metadata": {},
   "outputs": [],
   "source": [
    "processed=[]       #To store processed points\n",
    "clstr=0\n",
    "for i in range(df.shape[0]):\n",
    "    if list(X[i]) not in processed:\n",
    "        p=list(X[i])\n",
    "        nbd=get_nbd(p)       #Getting neighbourhood of X[i]\n",
    "        processed.append(p)  #Updating processed points list\n",
    "        if len(nbd)>minpt:\n",
    "            clstr=clstr+1\n",
    "            df.iloc[i,1]=clstr         #Assigning clusters\n",
    "            ind=find_ind(nbd)          #To get the indices of the cneighbouring points of X[i]\n",
    "            step_one(p,i,ind,nbd)      #Performing step one\n",
    "            for j in range(len(nbd)):\n",
    "                df.iloc[ind[j],1]=clstr         #Assigning cluster to the neighbours\n",
    "                if list(X[ind[j]]) not in processed:\n",
    "                    p1=X[ind[j]]\n",
    "                    nbd1=get_nbd(list(X[ind[j]]))       #Getting the neighbourhood of the neighbours\n",
    "                    processed.append(list(X[ind[j]]))   #updating processed points list\n",
    "                    if len(nbd1)>=minpt:\n",
    "                        ind1=find_ind(nbd1)             #Finding the indices\n",
    "                        step_one(p1,ind[j],ind1,nbd1)   #Performing step two i.e. step one one the neighbours of X[i]\n",
    "            "
   ]
  },
  {
   "cell_type": "code",
   "execution_count": 13,
   "metadata": {},
   "outputs": [
    {
     "data": {
      "text/html": [
       "<div>\n",
       "<style scoped>\n",
       "    .dataframe tbody tr th:only-of-type {\n",
       "        vertical-align: middle;\n",
       "    }\n",
       "\n",
       "    .dataframe tbody tr th {\n",
       "        vertical-align: top;\n",
       "    }\n",
       "\n",
       "    .dataframe thead th {\n",
       "        text-align: right;\n",
       "    }\n",
       "</style>\n",
       "<table border=\"1\" class=\"dataframe\">\n",
       "  <thead>\n",
       "    <tr style=\"text-align: right;\">\n",
       "      <th></th>\n",
       "      <th>points</th>\n",
       "      <th>cluster</th>\n",
       "      <th>reach_dist</th>\n",
       "      <th>core_dist</th>\n",
       "    </tr>\n",
       "  </thead>\n",
       "  <tbody>\n",
       "    <tr>\n",
       "      <th>0</th>\n",
       "      <td>[-5.399745969389058, -5.871338392685264]</td>\n",
       "      <td>1</td>\n",
       "      <td>0.333270</td>\n",
       "      <td>0.387376</td>\n",
       "    </tr>\n",
       "    <tr>\n",
       "      <th>1</th>\n",
       "      <td>[-7.095478470987599, 4.796724730927463]</td>\n",
       "      <td>2</td>\n",
       "      <td>0.220120</td>\n",
       "      <td>0.210040</td>\n",
       "    </tr>\n",
       "    <tr>\n",
       "      <th>2</th>\n",
       "      <td>[-5.906015740696437, -8.818806262645342]</td>\n",
       "      <td>1</td>\n",
       "      <td>0.342093</td>\n",
       "      <td>0.296516</td>\n",
       "    </tr>\n",
       "    <tr>\n",
       "      <th>3</th>\n",
       "      <td>[-7.462995210456429, 3.3855207777016796]</td>\n",
       "      <td>2</td>\n",
       "      <td>0.353622</td>\n",
       "      <td>0.452634</td>\n",
       "    </tr>\n",
       "    <tr>\n",
       "      <th>4</th>\n",
       "      <td>[-8.019434148418728, 4.577537113395674]</td>\n",
       "      <td>2</td>\n",
       "      <td>0.276270</td>\n",
       "      <td>0.276270</td>\n",
       "    </tr>\n",
       "  </tbody>\n",
       "</table>\n",
       "</div>"
      ],
      "text/plain": [
       "                                     points  cluster  reach_dist  core_dist\n",
       "0  [-5.399745969389058, -5.871338392685264]        1    0.333270   0.387376\n",
       "1   [-7.095478470987599, 4.796724730927463]        2    0.220120   0.210040\n",
       "2  [-5.906015740696437, -8.818806262645342]        1    0.342093   0.296516\n",
       "3  [-7.462995210456429, 3.3855207777016796]        2    0.353622   0.452634\n",
       "4   [-8.019434148418728, 4.577537113395674]        2    0.276270   0.276270"
      ]
     },
     "execution_count": 13,
     "metadata": {},
     "output_type": "execute_result"
    }
   ],
   "source": [
    "df.head()"
   ]
  },
  {
   "cell_type": "markdown",
   "metadata": {},
   "source": [
    "Final plot"
   ]
  },
  {
   "cell_type": "code",
   "execution_count": 14,
   "metadata": {},
   "outputs": [
    {
     "data": {
      "text/plain": [
       "<matplotlib.collections.PathCollection at 0x2308c365470>"
      ]
     },
     "execution_count": 14,
     "metadata": {},
     "output_type": "execute_result"
    },
    {
     "data": {
      "image/png": "[encoded data removed]",
      "text/plain": [
       "<Figure size 432x288 with 1 Axes>"
      ]
     },
     "metadata": {},
     "output_type": "display_data"
    }
   ],
   "source": [
    "plt.scatter(X[:,0],X[:,1],c=df['cluster'])"
   ]
  }
 ],
 "metadata": {
  "kernelspec": {
   "display_name": "Python 3",
   "language": "python",
   "name": "python3"
  },
  "language_info": {
   "codemirror_mode": {
    "name": "ipython",
    "version": 3
   },
   "file_extension": ".py",
   "mimetype": "text/x-python",
   "name": "python",
   "nbconvert_exporter": "python",
   "pygments_lexer": "ipython3",
   "version": "3.6.5"
  }
 },
 "nbformat": 4,
 "nbformat_minor": 2
}
