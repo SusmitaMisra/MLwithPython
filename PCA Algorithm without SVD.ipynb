{
 "cells": [
  {
   "cell_type": "markdown",
   "metadata": {},
   "source": [
    "# PCA Algorithm without SVD implementation"
   ]
  },
  {
   "cell_type": "markdown",
   "metadata": {},
   "source": [
    "Importing necessary modules"
   ]
  },
  {
   "cell_type": "code",
   "execution_count": 1,
   "metadata": {},
   "outputs": [],
   "source": [
    "import pandas as pd\n",
    "import numpy as np\n",
    "import matplotlib.pyplot as plt\n",
    "from sklearn.datasets import make_blobs\n"
   ]
  },
  {
   "cell_type": "raw",
   "metadata": {},
   "source": [
    "Creating a dataset"
   ]
  },
  {
   "cell_type": "code",
   "execution_count": 4,
   "metadata": {},
   "outputs": [
    {
     "data": {
      "text/plain": [
       "<matplotlib.collections.PathCollection at 0x14d48746c50>"
      ]
     },
     "execution_count": 4,
     "metadata": {},
     "output_type": "execute_result"
    },
    {
     "data": {
      "image/png": "[encoded data removed]",
      "text/plain": [
       "<Figure size 720x360 with 1 Axes>"
      ]
     },
     "metadata": {},
     "output_type": "display_data"
    }
   ],
   "source": [
    "centers = [[1, 1], [-1, -1], [1, -1]]\n",
    "X, y = make_blobs(n_samples=50, n_features = 10,centers=2,random_state=19)\n",
    "fig,ax = plt.subplots(figsize=(10,5))\n",
    "ax.set_title(\"Actual Data showing 3 clusters\")\n",
    "ax.scatter(X[:,0],X[:,1],c=y,s=50,cmap = 'inferno')"
   ]
  },
  {
   "cell_type": "code",
   "execution_count": 5,
   "metadata": {},
   "outputs": [
    {
     "data": {
      "text/plain": [
       "(50, 10)"
      ]
     },
     "execution_count": 5,
     "metadata": {},
     "output_type": "execute_result"
    }
   ],
   "source": [
    "X.shape"
   ]
  },
  {
   "cell_type": "markdown",
   "metadata": {},
   "source": [
    "PCA Class"
   ]
  },
  {
   "cell_type": "code",
   "execution_count": null,
   "metadata": {},
   "outputs": [],
   "source": [
    "#Step 1. Take the input matrix X and find Mu vector. \n",
    "#(Mu vector is the vector having means of each rows of X like the first element of Mu wil be the mean of first row).\n",
    "#Mu will be of order nx1\n",
    "class pcalg(object):\n",
    "    def __init__(self,X,k):\n",
    "        self.X=X\n",
    "        self.k=k\n",
    "        self.V_k=None\n",
    "    def mu_x(self):\n",
    "        mu_x=np.zeros((self.X.shape[0],1))\n",
    "        for i in range(self.X.shape[0]):\n",
    "             mu_x[i]=(1/self.X.shape[1])*(sum(self.X[i])) \n",
    "        return mu_x \n",
    "    \n",
    "#Step 2:- Subtract each row from X from its mean (ie., subtract X[0] from Mu[0])\n",
    "#We will have X-Mu matrix computed.Assign it to any variable A (so a =A = X-Mu)\n",
    "    \n",
    "    def A_m(self):\n",
    "        m = self.mu_x()\n",
    "        A=np.zeros(m.shape)\n",
    "        A=self.X-m\n",
    "        return A \n",
    "    \n",
    "#Step 3:- Compute Transpose of A and multiply it with A (ie., Transpose of X_Mu and multiplied with X-Mu) \n",
    "#Let it be Sigma = A.T.dot(A)\n",
    "#Step 4:- Divide Sigma by n (i.e, Sigma = Sigma/n) \n",
    "#Step 5:- Compute Eigen vectors of Sigma (let it be v1,v2,v3,v4,... ) and eigen values\n",
    "#Step 6:- Arrange the eigen vectors in descending order of the eigen values in form of a matrix. Let the matrix be V\n",
    "#Step 7:- Pick up first k elements of V and that will be our dimensionality reduced matrix of order nxk\n",
    "\n",
    "    def sigma(self):\n",
    "        a = self.A_m()\n",
    "        sigma=a.T.dot(a)\n",
    "        sigma=sigma/X.shape[0]\n",
    "        eig_val,eig_vec=np.linalg.eig(sigma)\n",
    "        self.V_k=eig_vec[:,:self.k]\n",
    "    def red_mat(self):\n",
    "        return(self.X.dot(self.V_k))"
   ]
  },
  {
   "cell_type": "code",
   "execution_count": null,
   "metadata": {},
   "outputs": [],
   "source": [
    "p = pcalg(X,2)"
   ]
  },
  {
   "cell_type": "code",
   "execution_count": null,
   "metadata": {},
   "outputs": [],
   "source": [
    "p.mu_x().shape"
   ]
  },
  {
   "cell_type": "code",
   "execution_count": null,
   "metadata": {},
   "outputs": [],
   "source": [
    "p.A_m().shape"
   ]
  },
  {
   "cell_type": "code",
   "execution_count": null,
   "metadata": {},
   "outputs": [],
   "source": [
    "p.sigma()"
   ]
  },
  {
   "cell_type": "code",
   "execution_count": 6,
   "metadata": {},
   "outputs": [
    {
     "ename": "NameError",
     "evalue": "name 'p' is not defined",
     "output_type": "error",
     "traceback": [
      "\u001b[1;31m---------------------------------------------------------------------------\u001b[0m",
      "\u001b[1;31mNameError\u001b[0m                                 Traceback (most recent call last)",
      "\u001b[1;32m<ipython-input-6-42bff5dc41d5>\u001b[0m in \u001b[0;36m<module>\u001b[1;34m()\u001b[0m\n\u001b[1;32m----> 1\u001b[1;33m \u001b[0mX_new\u001b[0m\u001b[1;33m=\u001b[0m\u001b[0mp\u001b[0m\u001b[1;33m.\u001b[0m\u001b[0mred_mat\u001b[0m\u001b[1;33m(\u001b[0m\u001b[1;33m)\u001b[0m\u001b[1;33m\u001b[0m\u001b[0m\n\u001b[0m\u001b[0;32m      2\u001b[0m \u001b[0mprint\u001b[0m\u001b[1;33m(\u001b[0m\u001b[0mX\u001b[0m\u001b[1;33m.\u001b[0m\u001b[0mshape\u001b[0m\u001b[1;33m)\u001b[0m\u001b[1;33m\u001b[0m\u001b[0m\n\u001b[0;32m      3\u001b[0m \u001b[0mprint\u001b[0m\u001b[1;33m(\u001b[0m\u001b[0mX_new\u001b[0m\u001b[1;33m.\u001b[0m\u001b[0mshape\u001b[0m\u001b[1;33m)\u001b[0m\u001b[1;33m\u001b[0m\u001b[0m\n",
      "\u001b[1;31mNameError\u001b[0m: name 'p' is not defined"
     ]
    }
   ],
   "source": [
    "X_new=p.red_mat()\n",
    "print(X.shape)\n",
    "print(X_new.shape)"
   ]
  },
  {
   "cell_type": "code",
   "execution_count": null,
   "metadata": {},
   "outputs": [],
   "source": []
  }
 ],
 "metadata": {
  "kernelspec": {
   "display_name": "Python 3",
   "language": "python",
   "name": "python3"
  },
  "language_info": {
   "codemirror_mode": {
    "name": "ipython",
    "version": 3
   },
   "file_extension": ".py",
   "mimetype": "text/x-python",
   "name": "python",
   "nbconvert_exporter": "python",
   "pygments_lexer": "ipython3",
   "version": "3.6.5"
  }
 },
 "nbformat": 4,
 "nbformat_minor": 2
}
